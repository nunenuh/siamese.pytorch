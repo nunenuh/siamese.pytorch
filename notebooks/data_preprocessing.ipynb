{
 "cells": [
  {
   "cell_type": "code",
   "execution_count": 85,
   "metadata": {},
   "outputs": [],
   "source": [
    "import pandas\n",
    "import pathlib\n",
    "import os\n",
    "from collections import defaultdict\n",
    "import shutil"
   ]
  },
  {
   "cell_type": "code",
   "execution_count": 60,
   "metadata": {},
   "outputs": [],
   "source": [
    "path = pathlib.Path('./dataset/attfaces')\n",
    "afiles = sorted(list(path.glob(\"*/*.pgm\")))\n",
    "\n",
    "dct = defaultdict(list)\n",
    "for file in afiles:\n",
    "    key = str(file).split(\"/\")[-2]\n",
    "    dct[key].append(file)\n",
    "    \n",
    "alldata = dict(dct)"
   ]
  },
  {
   "cell_type": "code",
   "execution_count": 69,
   "metadata": {},
   "outputs": [
    {
     "data": {
      "text/plain": [
       "([1, 6, 5], [8, 2, 9, 4, 3, 7, 0])"
      ]
     },
     "execution_count": 69,
     "metadata": {},
     "output_type": "execute_result"
    }
   ],
   "source": [
    "from random import shuffle\n",
    "\n",
    "def get_random_index(lenght=10, split_ratio=0.3):\n",
    "    x = [i for i in range(lenght)]\n",
    "    shuffle(x)\n",
    "    ratio = int(lenght*split_ratio)\n",
    "    return x[0:ratio], x[ratio:]\n",
    "    \n",
    "get_random_index(lenght=10, split_ratio=0.3)"
   ]
  },
  {
   "cell_type": "code",
   "execution_count": 101,
   "metadata": {},
   "outputs": [],
   "source": [
    "train = defaultdict(list)\n",
    "valid = defaultdict(list)\n",
    "\n",
    "split= 0.3\n",
    "for key in alldata.keys():\n",
    "    data_key = alldata[key]\n",
    "    valid_index,train_index = get_random_index(lenght=len(data_key), split_ratio=split)\n",
    "    \n",
    "    for vidx in valid_index:\n",
    "        valid[key].append(data_key[vidx])\n",
    "        \n",
    "    for tidx in train_index:\n",
    "        train[key].append(data_key[tidx])\n",
    "        \n",
    "train = dict(train)\n",
    "valid = dict(valid)"
   ]
  },
  {
   "cell_type": "code",
   "execution_count": 102,
   "metadata": {},
   "outputs": [],
   "source": [
    "base_dst = 'dataset/train'\n",
    "file = str(train[key][0]).split('/')[-1]\n",
    "dirz = str(train[key][0]).split('/')[-2]\n",
    "os.path.join(base_dst, dirz, file)\n",
    "\n",
    "base_dst = 'dataset/train'\n",
    "for key in train.keys():\n",
    "    data_key = train[key]\n",
    "    for filez in data_key:\n",
    "        file = str(filez).split('/')[-1]\n",
    "        dirz = str(filez).split('/')[-2]\n",
    "        dst_path = os.path.join(base_dst, dirz, file)\n",
    "        dst_dirz = os.path.join(base_dst, dirz)\n",
    "        os.makedirs(dst_dirz, exist_ok=True)\n",
    "#         print(filez, dst_path)\n",
    "        shutil.copy(str(filez), dst_path)\n",
    "        \n",
    "\n",
    "base_dst = 'dataset/valid'\n",
    "for key in valid.keys():\n",
    "    data_key = valid[key]\n",
    "    for filez in data_key:\n",
    "        file = str(filez).split('/')[-1]\n",
    "        dirz = str(filez).split('/')[-2]\n",
    "        dst_path = os.path.join(base_dst, dirz, file)\n",
    "        dst_dirz = os.path.join(base_dst, dirz)\n",
    "        os.makedirs(dst_dirz, exist_ok=True)\n",
    "#         print(filez, dst_path)\n",
    "        shutil.copy(str(filez), dst_path)\n",
    "        \n",
    "        \n"
   ]
  },
  {
   "cell_type": "code",
   "execution_count": 100,
   "metadata": {},
   "outputs": [],
   "source": [
    "shutil.rmtree('dataset/train')\n",
    "shutil.rmtree('dataset/valid')"
   ]
  },
  {
   "cell_type": "code",
   "execution_count": null,
   "metadata": {},
   "outputs": [],
   "source": []
  }
 ],
 "metadata": {
  "kernelspec": {
   "display_name": "Python 3",
   "language": "python",
   "name": "python3"
  },
  "language_info": {
   "codemirror_mode": {
    "name": "ipython",
    "version": 3
   },
   "file_extension": ".py",
   "mimetype": "text/x-python",
   "name": "python",
   "nbconvert_exporter": "python",
   "pygments_lexer": "ipython3",
   "version": "3.6.7"
  }
 },
 "nbformat": 4,
 "nbformat_minor": 2
}
