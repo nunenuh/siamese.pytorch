{
 "cells": [
  {
   "cell_type": "code",
   "execution_count": 1,
   "metadata": {},
   "outputs": [],
   "source": [
    "import random\n",
    "import numpy as np\n",
    "import matplotlib.pyplot as plt\n",
    "\n",
    "import torch\n",
    "import torch.nn as nn\n",
    "import torch.nn.functional as F\n",
    "import torch.optim as optim\n",
    "from torch.utils import data\n",
    "\n",
    "import torchvision\n",
    "from torchvision import datasets\n",
    "from torchvision import transforms\n",
    "\n",
    "\n",
    "import PIL\n",
    "from PIL import Image\n",
    "\n",
    "import time"
   ]
  },
  {
   "cell_type": "code",
   "execution_count": 2,
   "metadata": {},
   "outputs": [],
   "source": [
    "class SiameseNetworkDataset(data.Dataset):\n",
    "    \n",
    "    def __init__(self,imageFolderDataset,transform=None,should_invert=True):\n",
    "        self.imageFolderDataset = imageFolderDataset    \n",
    "        self.transform = transform\n",
    "        self.should_invert = should_invert\n",
    "        \n",
    "    def __getitem__(self,index):\n",
    "        img0_tuple = random.choice(self.imageFolderDataset.imgs)\n",
    "        #we need to make sure approx 50% of images are in the same class\n",
    "        should_get_same_class = random.randint(0,1) \n",
    "        if should_get_same_class:\n",
    "            while True:\n",
    "                #keep looping till the same class image is found\n",
    "                img1_tuple = random.choice(self.imageFolderDataset.imgs) \n",
    "                if img0_tuple[1]==img1_tuple[1]:\n",
    "                    break\n",
    "        else:\n",
    "            img1_tuple = random.choice(self.imageFolderDataset.imgs)\n",
    "        \n",
    "#         print(img0_tuple, img1_tuple)\n",
    "        img0 = Image.open(img0_tuple[0])\n",
    "        img1 = Image.open(img1_tuple[0])\n",
    "        img0 = img0.convert(\"RGB\")\n",
    "        img1 = img1.convert(\"RGB\")\n",
    "        \n",
    "        if self.should_invert:\n",
    "            img0 = PIL.ImageOps.invert(img0)\n",
    "            img1 = PIL.ImageOps.invert(img1)\n",
    "\n",
    "        if self.transform is not None:\n",
    "            img0 = self.transform(img0)\n",
    "            img1 = self.transform(img1)\n",
    "        \n",
    "        return img0, img1, torch.from_numpy(np.array([int(img1_tuple[1]!=img0_tuple[1])],dtype=np.float32))\n",
    "    \n",
    "    def __len__(self):\n",
    "        return len(self.imageFolderDataset.imgs)"
   ]
  },
  {
   "cell_type": "code",
   "execution_count": null,
   "metadata": {},
   "outputs": [],
   "source": [
    "BATCH_SIZE = 64\n",
    "NUM_EPOCH = 10\n",
    "LRATE = 0.001\n",
    "MOMENTUM = 0.9\n",
    "BETA1 = 0.5\n",
    "BETA2 = 0.999"
   ]
  },
  {
   "cell_type": "code",
   "execution_count": 4,
   "metadata": {},
   "outputs": [],
   "source": [
    "train_path  = 'dataset/train'\n",
    "valid_path  = 'dataset/valid'\n",
    "\n",
    "\n",
    "tmft_train = transforms.Compose([\n",
    "    transforms.Resize((112,112)),\n",
    "#     transforms.RandomRotation(30),\n",
    "    transforms.CenterCrop((112)),\n",
    "    transforms.Grayscale(),\n",
    "    transforms.ToTensor(),\n",
    "#     transforms.Normalize(mean=(0.5, 0.5, 0.5), std=(0.5, 0.5, 0.5))\n",
    "])\n",
    "\n",
    "tmft_valid = transforms.Compose([\n",
    "    transforms.Resize((112,112)),\n",
    "    transforms.CenterCrop((112)),\n",
    "    transforms.Grayscale(),\n",
    "    transforms.ToTensor(),\n",
    "#     transforms.Normalize(mean=(0.5, 0.5, 0.5), std=(0.5, 0.5, 0.5))\n",
    "])\n",
    "\n",
    "trainset_imagefolder = datasets.ImageFolder(train_path)\n",
    "trainset = SiameseNetworkDataset(trainset_imagefolder, transform=tmft_train)\n",
    "trainloader = data.DataLoader(trainset, batch_size=BATCH_SIZE, shuffle=True)\n",
    "\n",
    "valid_imagefolder = datasets.ImageFolder(valid_path)\n",
    "validset = SiameseNetworkDataset(valid_imagefolder, transform=tmft_valid)\n",
    "validloader = data.DataLoader(validset, batch_size=BATCH_SIZE, shuffle=True)"
   ]
  },
  {
   "cell_type": "code",
   "execution_count": 5,
   "metadata": {},
   "outputs": [],
   "source": [
    "\n",
    "# img0_tuple = random.choice(trainset_imagefolder.imgs)\n",
    "# img0_tuple\n",
    "# should_get_same_class = random.randint(0,1) \n",
    "# if should_get_same_class:\n",
    "#     while True:\n",
    "#         #keep looping till the same class image is found\n",
    "#         img1_tuple = random.choice(trainset_imagefolder.imgs) \n",
    "#         if img0_tuple[1]==img1_tuple[1]:\n",
    "#             break\n",
    "# else:\n",
    "#     img1_tuple = random.choice(trainset_imagefolder.imgs)\n",
    "\n",
    "# label = torch.from_numpy(np.array([int(img1_tuple[1]!=img0_tuple[1])],dtype=np.float32))\n",
    "# img0_tuple,img1_tuple, label"
   ]
  },
  {
   "cell_type": "code",
   "execution_count": 6,
   "metadata": {},
   "outputs": [
    {
     "data": {
      "text/plain": [
       "(tensor(-1.1901, grad_fn=<MinBackward1>), tensor(0., grad_fn=<MinBackward1>))"
      ]
     },
     "execution_count": 6,
     "metadata": {},
     "output_type": "execute_result"
    }
   ],
   "source": [
    "im1, im2, sim = next(iter(trainloader))\n",
    "\n",
    "conv1 = nn.Conv2d(1, 4, kernel_size=3, stride=1, padding=1)\n",
    "pool1 = nn.MaxPool2d(2,2)\n",
    "relu1 = nn.ReLU(inplace=True)\n",
    "\n",
    "c1 = conv1(im1)\n",
    "p1 = pool1(c1)\n",
    "r1 = relu1(p1)\n",
    "\n",
    "c1.shape, p1.shape, r1.shape\n",
    "c1.min(), r1.min()"
   ]
  },
  {
   "cell_type": "code",
   "execution_count": 8,
   "metadata": {},
   "outputs": [],
   "source": []
  },
  {
   "cell_type": "code",
   "execution_count": 176,
   "metadata": {},
   "outputs": [
    {
     "name": "stdout",
     "output_type": "stream",
     "text": [
      "Parameter containing:\n",
      "tensor([[[[ 0.1596, -0.1328, -0.2019],\n",
      "          [ 0.3062,  0.2115, -0.1200],\n",
      "          [ 0.2533,  0.0356,  0.1265]]],\n",
      "\n",
      "\n",
      "        [[[ 0.2483,  0.1500, -0.1183],\n",
      "          [ 0.3054, -0.3295, -0.0252],\n",
      "          [-0.1414,  0.1005, -0.0141]]],\n",
      "\n",
      "\n",
      "        [[[ 0.2794, -0.0339,  0.1697],\n",
      "          [ 0.1442,  0.0153, -0.0024],\n",
      "          [-0.1479,  0.0076, -0.2610]]],\n",
      "\n",
      "\n",
      "        [[[-0.1606,  0.1862, -0.0130],\n",
      "          [-0.2508, -0.1298, -0.2402],\n",
      "          [-0.0455, -0.0584, -0.1941]]]], requires_grad=True)\n",
      "Parameter containing:\n",
      "tensor([[[[ 0.1596, -0.1328, -0.2019],\n",
      "          [ 0.3062,  0.2115, -0.1200],\n",
      "          [ 0.2533,  0.0356,  0.1265]]],\n",
      "\n",
      "\n",
      "        [[[ 0.2484,  0.1500, -0.1183],\n",
      "          [ 0.3055, -0.3294, -0.0251],\n",
      "          [-0.1413,  0.1006, -0.0140]]],\n",
      "\n",
      "\n",
      "        [[[ 0.2793, -0.0339,  0.1697],\n",
      "          [ 0.1442,  0.0153, -0.0025],\n",
      "          [-0.1480,  0.0075, -0.2610]]],\n",
      "\n",
      "\n",
      "        [[[-0.1605,  0.1862, -0.0130],\n",
      "          [-0.2508, -0.1298, -0.2402],\n",
      "          [-0.0455, -0.0584, -0.1941]]]], requires_grad=True)\n"
     ]
    }
   ],
   "source": [
    "net = SiameseNetwork()\n",
    "cr = ContrastiveLoss()\n",
    "op = optim.SGD(net.parameters(), lr=LRATE)\n",
    "print(net.cnn1[1].weight)\n",
    "\n",
    "op.zero_grad()\n",
    "out1, out2 = net.forward(im1, im2)\n",
    "loss = cr(out1, out2, sim)\n",
    "loss.backward()\n",
    "op.step()\n",
    "\n",
    "out1, out2 = net.forward(im1, im2)\n",
    "print(net.cnn1[1].weight)"
   ]
  },
  {
   "cell_type": "code",
   "execution_count": null,
   "metadata": {},
   "outputs": [],
   "source": [
    "# # plt.imshow(im1[0].permute(1,2,0));plt.show()\n",
    "# # plt.imshow(im2[0].permute(1,2,0));plt.show()\n",
    "# # print(sim[0])\n",
    "\n",
    "# plt.imshow(im1[0].squeeze());plt.show()\n",
    "# plt.imshow(im2[0].squeeze());plt.show()\n",
    "# print(sim[0])\n",
    "\n",
    "# # im1.squeeze()"
   ]
  },
  {
   "cell_type": "code",
   "execution_count": 21,
   "metadata": {},
   "outputs": [],
   "source": [
    "class ConvBlock(nn.Module):\n",
    "    def __init__(self, in_chan, out_chan, kernel_size=3, padding=1, stride=1, use_batchnorm=True, use_dropout=False):\n",
    "        super(ConvBlock, self).__init__()\n",
    "        self.conv = nn.Conv2d(in_chan, out_chan, kernel_size=kernel_size, stride=stride, padding=padding)\n",
    "        if use_batchnorm:\n",
    "            self.bn = nn.BatchNorm2d(out_chan)\n",
    "        self.relu = nn.ReLU(inplace=True)\n",
    "        if use_dropout:\n",
    "            self.dropout = nn.Dropout(p=0.3)\n",
    "        \n",
    "        self.use_batchnorm = use_batchnorm\n",
    "        self.use_dropout = use_dropout\n",
    "        \n",
    "    def forward(self, x):\n",
    "        x = self.conv(x)\n",
    "        if self.use_batchnorm:\n",
    "            x = self.bn(x)\n",
    "        x = self.relu(x)\n",
    "        if self.use_dropout:\n",
    "            x = self.dropout(x)\n",
    "        return x\n",
    "        \n",
    "\n",
    "class SiameseNetwork(nn.Module):\n",
    "    def __init__(self):\n",
    "        super(SiameseNetwork, self).__init__()\n",
    "        self.layer1 = nn.Sequential(\n",
    "            ConvBlock(1,32),\n",
    "            ConvBlock(32,32),\n",
    "            nn.MaxPool2d(2,2),\n",
    "        )\n",
    "        \n",
    "        self.layer2 = nn.Sequential(\n",
    "            ConvBlock(32,64),\n",
    "            ConvBlock(64,64),\n",
    "            ConvBlock(64,64),\n",
    "            nn.MaxPool2d(2,2),\n",
    "        )\n",
    "        \n",
    "        self.layer3 = nn.Sequential(\n",
    "            ConvBlock(64,128),\n",
    "            ConvBlock(128,128),\n",
    "            ConvBlock(128,128),\n",
    "            nn.MaxPool2d(2,2),\n",
    "        )\n",
    "        \n",
    "        self.layer4 = nn.Sequential(\n",
    "            ConvBlock(128,256),\n",
    "            ConvBlock(256,256),\n",
    "            ConvBlock(256,256),\n",
    "            nn.MaxPool2d(2,2),\n",
    "        )\n",
    "\n",
    "        self.fc1 = nn.Sequential(\n",
    "            nn.BatchNorm1d(256*7*7),\n",
    "            nn.Linear(256*7*7, 512),\n",
    "            nn.ReLU(inplace=True),\n",
    "            nn.Dropout(p=0.3),\n",
    "            \n",
    "            nn.BatchNorm1d(512),\n",
    "            nn.Linear(512, 128),\n",
    "            nn.ReLU(inplace=True),\n",
    "            nn.Dropout(p=0.3),\n",
    "            \n",
    "            nn.BatchNorm1d(128),\n",
    "            nn.Linear(128, 32)\n",
    "        )\n",
    "\n",
    "    def forward_once(self, x):\n",
    "        x = self.layer1(x)\n",
    "        x = self.layer2(x)\n",
    "        x = self.layer3(x)\n",
    "        x = self.layer4(x)\n",
    "        \n",
    "        x = x.view(x.size()[0], -1)\n",
    "        x = self.fc1(x)\n",
    "        return x\n",
    "\n",
    "    def forward(self, input1, input2):\n",
    "        output1 = self.forward_once(input1)\n",
    "        output2 = self.forward_once(input2)\n",
    "        return output1, output2\n",
    "    \n",
    "    \n",
    "class ContrastiveLoss(nn.Module):\n",
    "    \"\"\"\n",
    "    Contrastive loss function.\n",
    "    Based on: http://yann.lecun.com/exdb/publis/pdf/hadsell-chopra-lecun-06.pdf\n",
    "    \"\"\"\n",
    "\n",
    "    def __init__(self, margin=2.0):\n",
    "        super(ContrastiveLoss, self).__init__()\n",
    "        self.margin = margin\n",
    "\n",
    "    def forward(self, output1, output2, label):\n",
    "        euclidean_distance = F.pairwise_distance(output1, output2)\n",
    "        if torch.cuda.is_available():\n",
    "            euclidean_distance = euclidean_distance.cpu()\n",
    "        loss_contrastive = torch.mean((1-label) * torch.pow(euclidean_distance, 2) +\n",
    "                                      (label) * torch.pow(torch.clamp(self.margin - euclidean_distance, min=0.0), 2))\n",
    "\n",
    "\n",
    "        return loss_contrastive"
   ]
  },
  {
   "cell_type": "code",
   "execution_count": 22,
   "metadata": {},
   "outputs": [],
   "source": [
    "model = SiameseNetwork()\n",
    "if torch.cuda.is_available():\n",
    "    model = model.cuda()\n",
    "\n",
    "criterion = ContrastiveLoss()\n",
    "optimizer = optim.SGD(model.parameters(), lr=LRATE, momentum=MOMENTUM, )"
   ]
  },
  {
   "cell_type": "code",
   "execution_count": 23,
   "metadata": {},
   "outputs": [],
   "source": [
    "# img1, img2, label = next(iter(trainloader))\n",
    "\n",
    "# if torch.cuda.is_available():\n",
    "#     img1 = img1.cuda()\n",
    "#     img2 = img2.cuda()\n",
    "\n",
    "# optimizer.zero_grad()\n",
    "# output1, output2 = model.forward(img1, img2) #forward prop\n",
    "# loss = criterion(output1, output2, label)\n",
    "# loss.backward()\n",
    "# optimizer.step()\n",
    "# print(loss)"
   ]
  },
  {
   "cell_type": "code",
   "execution_count": 19,
   "metadata": {},
   "outputs": [
    {
     "data": {
      "text/plain": [
       "1"
      ]
     },
     "execution_count": 19,
     "metadata": {},
     "output_type": "execute_result"
    }
   ],
   "source": [
    "torch.rand(1,2,2,2).size(0)"
   ]
  },
  {
   "cell_type": "code",
   "execution_count": 24,
   "metadata": {},
   "outputs": [],
   "source": [
    "class AverageMeter(object):\n",
    "    \"\"\"Computes and stores the average and current value\"\"\"\n",
    "    def __init__(self):\n",
    "        self.reset()\n",
    "\n",
    "    def reset(self):\n",
    "        self.val = 0\n",
    "        self.avg = 0\n",
    "        self.sum = 0\n",
    "        self.count = 0\n",
    "\n",
    "    def update(self, val, n=1):\n",
    "        self.val = val\n",
    "        self.sum += val * n\n",
    "        self.count += n\n",
    "        self.avg = self.sum / self.count"
   ]
  },
  {
   "cell_type": "code",
   "execution_count": 25,
   "metadata": {},
   "outputs": [],
   "source": [
    "def train(epoch, num_epoch, model, dataloader, criterion, optimizer):\n",
    "    \n",
    "    batch_time = AverageMeter()\n",
    "    data_time = AverageMeter()\n",
    "    losses = AverageMeter()\n",
    "    \n",
    "    model.train()\n",
    "    \n",
    "    end_time = time.time()\n",
    "    for idx, (img1,img2,label) in enumerate(dataloader):\n",
    "        data_time.update(time.time() - end_time)\n",
    "        \n",
    "        if torch.cuda.is_available():\n",
    "            img1 = img1.cuda()\n",
    "            img2 = img2.cuda()\n",
    "            \n",
    "        optimizer.zero_grad()\n",
    "        output1, output2 = model.forward(img1, img2) #forward prop\n",
    "        loss = criterion(output1, output2, label)\n",
    "        loss.backward()\n",
    "        optimizer.step()\n",
    "        \n",
    "        losses.update(loss.item(), img1.size(0))\n",
    "        batch_time.update(time.time() - end_time)\n",
    "        end_time = time.time()\n",
    "        \n",
    "        if idx % 5==0:\n",
    "            print(f'Train Epoch [{epoch+1}/{num_epoch}] [{idx}/{len(dataloader)}]\\t'\n",
    "                  f' Time {batch_time.val:.3f} ({batch_time.avg:.3f})\\t'\n",
    "                  f' Data {data_time.val:.3f} ({data_time.avg:.3f})\\t'\n",
    "                  f' Loss {losses.val:.4f} ({losses.avg:.4f}) ')\n",
    "        \n",
    "    return losses.avg\n",
    "        \n",
    "def valid(epoch, num_epoch, model, dataloader, criterion, optimizer):\n",
    "    \n",
    "    batch_time = AverageMeter()\n",
    "    data_time = AverageMeter()\n",
    "    losses = AverageMeter()\n",
    "    \n",
    "    model.eval()\n",
    "    with torch.no_grad():\n",
    "        end_time = time.time()\n",
    "        for idx, (img1,img2,label) in enumerate(dataloader):\n",
    "            data_time.update(time.time() - end_time)\n",
    "            \n",
    "            if torch.cuda.is_available():\n",
    "                img1 = img1.cuda()\n",
    "                img2 = img2.cuda()\n",
    "\n",
    "            output1, output2 = model.forward(img1, img2) #forward prop\n",
    "            loss = criterion(output1, output2, label)\n",
    "            \n",
    "            losses.update(loss.item(), img1.size(0))\n",
    "            batch_time.update(time.time() - end_time)\n",
    "            end_time = time.time()\n",
    "            \n",
    "            if idx % 5==0:\n",
    "                print(f'Valid Epoch [{epoch + 1}/{num_epoch}] [{idx}/{len(dataloader)}]\\t'\n",
    "                      f' Time {batch_time.val:.3f} ({batch_time.avg:.3f})\\t'\n",
    "                      f' Data {data_time.val:.3f} ({data_time.avg:.3f})\\t'\n",
    "                      f' Loss {losses.val:.4f} ({losses.avg:.4f}) ')\n",
    "            \n",
    "    return losses.avg\n",
    "    "
   ]
  },
  {
   "cell_type": "code",
   "execution_count": 26,
   "metadata": {},
   "outputs": [
    {
     "name": "stdout",
     "output_type": "stream",
     "text": [
      "Train Epoch [1/500] [0/5]\t Time 0.312 (0.312)\t Data 0.083 (0.083)\t Loss 3.5903 (3.5903) \n",
      "Valid Epoch [1/500] [0/2]\t Time 0.311 (0.311)\t Data 0.083 (0.083)\t Loss 2.0625 (2.0625) \n",
      "Train Epoch [2/500] [0/5]\t Time 0.264 (0.264)\t Data 0.082 (0.082)\t Loss 3.7586 (3.7586) \n",
      "Valid Epoch [2/500] [0/2]\t Time 0.309 (0.309)\t Data 0.081 (0.081)\t Loss 1.8743 (1.8743) \n",
      "Train Epoch [3/500] [0/5]\t Time 0.272 (0.272)\t Data 0.082 (0.082)\t Loss 3.0427 (3.0427) \n",
      "Valid Epoch [3/500] [0/2]\t Time 0.312 (0.312)\t Data 0.082 (0.082)\t Loss 2.0826 (2.0826) \n",
      "Train Epoch [4/500] [0/5]\t Time 0.261 (0.261)\t Data 0.081 (0.081)\t Loss 2.7687 (2.7687) \n",
      "Valid Epoch [4/500] [0/2]\t Time 0.311 (0.311)\t Data 0.080 (0.080)\t Loss 1.6416 (1.6416) \n",
      "Train Epoch [5/500] [0/5]\t Time 0.271 (0.271)\t Data 0.079 (0.079)\t Loss 2.6805 (2.6805) \n",
      "Valid Epoch [5/500] [0/2]\t Time 0.314 (0.314)\t Data 0.081 (0.081)\t Loss 1.2208 (1.2208) \n",
      "Train Epoch [6/500] [0/5]\t Time 0.264 (0.264)\t Data 0.084 (0.084)\t Loss 3.7810 (3.7810) \n",
      "Valid Epoch [6/500] [0/2]\t Time 0.312 (0.312)\t Data 0.080 (0.080)\t Loss 1.1715 (1.1715) \n",
      "Train Epoch [7/500] [0/5]\t Time 0.271 (0.271)\t Data 0.081 (0.081)\t Loss 3.0557 (3.0557) \n",
      "Valid Epoch [7/500] [0/2]\t Time 0.315 (0.315)\t Data 0.084 (0.084)\t Loss 1.2545 (1.2545) \n",
      "Train Epoch [8/500] [0/5]\t Time 0.270 (0.270)\t Data 0.085 (0.085)\t Loss 2.3173 (2.3173) \n",
      "Valid Epoch [8/500] [0/2]\t Time 0.316 (0.316)\t Data 0.081 (0.081)\t Loss 1.2681 (1.2681) \n",
      "Train Epoch [9/500] [0/5]\t Time 0.269 (0.269)\t Data 0.080 (0.080)\t Loss 2.2293 (2.2293) \n",
      "Valid Epoch [9/500] [0/2]\t Time 0.310 (0.310)\t Data 0.080 (0.080)\t Loss 1.2012 (1.2012) \n",
      "Train Epoch [10/500] [0/5]\t Time 0.267 (0.267)\t Data 0.081 (0.081)\t Loss 2.4497 (2.4497) \n",
      "Valid Epoch [10/500] [0/2]\t Time 0.313 (0.313)\t Data 0.079 (0.079)\t Loss 1.2602 (1.2602) \n",
      "Train Epoch [11/500] [0/5]\t Time 0.269 (0.269)\t Data 0.080 (0.080)\t Loss 2.3891 (2.3891) \n",
      "Valid Epoch [11/500] [0/2]\t Time 0.307 (0.307)\t Data 0.081 (0.081)\t Loss 1.2072 (1.2072) \n",
      "Train Epoch [12/500] [0/5]\t Time 0.266 (0.266)\t Data 0.079 (0.079)\t Loss 2.5830 (2.5830) \n",
      "Valid Epoch [12/500] [0/2]\t Time 0.312 (0.312)\t Data 0.080 (0.080)\t Loss 1.3068 (1.3068) \n",
      "Train Epoch [13/500] [0/5]\t Time 0.269 (0.269)\t Data 0.080 (0.080)\t Loss 2.4984 (2.4984) \n",
      "Valid Epoch [13/500] [0/2]\t Time 0.309 (0.309)\t Data 0.082 (0.082)\t Loss 2.1257 (2.1257) \n",
      "Train Epoch [14/500] [0/5]\t Time 0.268 (0.268)\t Data 0.082 (0.082)\t Loss 2.3923 (2.3923) \n",
      "Valid Epoch [14/500] [0/2]\t Time 0.312 (0.312)\t Data 0.079 (0.079)\t Loss 1.3225 (1.3225) \n",
      "Train Epoch [15/500] [0/5]\t Time 0.271 (0.271)\t Data 0.079 (0.079)\t Loss 1.6134 (1.6134) \n",
      "Valid Epoch [15/500] [0/2]\t Time 0.313 (0.313)\t Data 0.080 (0.080)\t Loss 1.2475 (1.2475) \n",
      "Train Epoch [16/500] [0/5]\t Time 0.264 (0.264)\t Data 0.080 (0.080)\t Loss 1.9942 (1.9942) \n",
      "Valid Epoch [16/500] [0/2]\t Time 0.312 (0.312)\t Data 0.079 (0.079)\t Loss 1.1884 (1.1884) \n",
      "Train Epoch [17/500] [0/5]\t Time 0.270 (0.270)\t Data 0.079 (0.079)\t Loss 2.3016 (2.3016) \n",
      "Valid Epoch [17/500] [0/2]\t Time 0.312 (0.312)\t Data 0.079 (0.079)\t Loss 1.1370 (1.1370) \n",
      "Train Epoch [18/500] [0/5]\t Time 0.267 (0.267)\t Data 0.083 (0.083)\t Loss 2.0335 (2.0335) \n",
      "Valid Epoch [18/500] [0/2]\t Time 0.312 (0.312)\t Data 0.083 (0.083)\t Loss 1.1555 (1.1555) \n",
      "Train Epoch [19/500] [0/5]\t Time 0.275 (0.275)\t Data 0.083 (0.083)\t Loss 1.7471 (1.7471) \n",
      "Valid Epoch [19/500] [0/2]\t Time 0.313 (0.313)\t Data 0.081 (0.081)\t Loss 1.0451 (1.0451) \n",
      "Train Epoch [20/500] [0/5]\t Time 0.266 (0.266)\t Data 0.080 (0.080)\t Loss 2.0890 (2.0890) \n",
      "Valid Epoch [20/500] [0/2]\t Time 0.311 (0.311)\t Data 0.083 (0.083)\t Loss 1.2407 (1.2407) \n",
      "Train Epoch [21/500] [0/5]\t Time 0.275 (0.275)\t Data 0.082 (0.082)\t Loss 1.8625 (1.8625) \n",
      "Valid Epoch [21/500] [0/2]\t Time 0.313 (0.313)\t Data 0.088 (0.088)\t Loss 1.2212 (1.2212) \n",
      "Train Epoch [22/500] [0/5]\t Time 0.264 (0.264)\t Data 0.083 (0.083)\t Loss 1.9119 (1.9119) \n",
      "Valid Epoch [22/500] [0/2]\t Time 0.311 (0.311)\t Data 0.082 (0.082)\t Loss 1.1354 (1.1354) \n",
      "Train Epoch [23/500] [0/5]\t Time 0.269 (0.269)\t Data 0.080 (0.080)\t Loss 1.6056 (1.6056) \n",
      "Valid Epoch [23/500] [0/2]\t Time 0.313 (0.313)\t Data 0.079 (0.079)\t Loss 1.1906 (1.1906) \n",
      "Train Epoch [24/500] [0/5]\t Time 0.261 (0.261)\t Data 0.080 (0.080)\t Loss 2.3413 (2.3413) \n",
      "Valid Epoch [24/500] [0/2]\t Time 0.309 (0.309)\t Data 0.082 (0.082)\t Loss 1.2165 (1.2165) \n",
      "Train Epoch [25/500] [0/5]\t Time 0.271 (0.271)\t Data 0.080 (0.080)\t Loss 1.7577 (1.7577) \n",
      "Valid Epoch [25/500] [0/2]\t Time 0.314 (0.314)\t Data 0.080 (0.080)\t Loss 1.3425 (1.3425) \n",
      "Train Epoch [26/500] [0/5]\t Time 0.261 (0.261)\t Data 0.080 (0.080)\t Loss 1.9437 (1.9437) \n",
      "Valid Epoch [26/500] [0/2]\t Time 0.310 (0.310)\t Data 0.080 (0.080)\t Loss 1.3008 (1.3008) \n",
      "Train Epoch [27/500] [0/5]\t Time 0.279 (0.279)\t Data 0.081 (0.081)\t Loss 2.0791 (2.0791) \n",
      "Valid Epoch [27/500] [0/2]\t Time 0.313 (0.313)\t Data 0.081 (0.081)\t Loss 1.2921 (1.2921) \n",
      "Train Epoch [28/500] [0/5]\t Time 0.266 (0.266)\t Data 0.080 (0.080)\t Loss 1.6964 (1.6964) \n",
      "Valid Epoch [28/500] [0/2]\t Time 0.305 (0.305)\t Data 0.086 (0.086)\t Loss 1.3507 (1.3507) \n",
      "Train Epoch [29/500] [0/5]\t Time 0.274 (0.274)\t Data 0.083 (0.083)\t Loss 1.7437 (1.7437) \n",
      "Valid Epoch [29/500] [0/2]\t Time 0.312 (0.312)\t Data 0.079 (0.079)\t Loss 1.1829 (1.1829) \n",
      "Train Epoch [30/500] [0/5]\t Time 0.269 (0.269)\t Data 0.082 (0.082)\t Loss 1.8284 (1.8284) \n",
      "Valid Epoch [30/500] [0/2]\t Time 0.314 (0.314)\t Data 0.078 (0.078)\t Loss 1.1840 (1.1840) \n",
      "Train Epoch [31/500] [0/5]\t Time 0.269 (0.269)\t Data 0.080 (0.080)\t Loss 1.4425 (1.4425) \n",
      "Valid Epoch [31/500] [0/2]\t Time 0.310 (0.310)\t Data 0.080 (0.080)\t Loss 1.3148 (1.3148) \n",
      "Train Epoch [32/500] [0/5]\t Time 0.268 (0.268)\t Data 0.082 (0.082)\t Loss 1.6983 (1.6983) \n",
      "Valid Epoch [32/500] [0/2]\t Time 0.312 (0.312)\t Data 0.078 (0.078)\t Loss 1.4285 (1.4285) \n",
      "Train Epoch [33/500] [0/5]\t Time 0.270 (0.270)\t Data 0.080 (0.080)\t Loss 1.7168 (1.7168) \n",
      "Valid Epoch [33/500] [0/2]\t Time 0.311 (0.311)\t Data 0.080 (0.080)\t Loss 1.2297 (1.2297) \n",
      "Train Epoch [34/500] [0/5]\t Time 0.265 (0.265)\t Data 0.082 (0.082)\t Loss 1.8882 (1.8882) \n",
      "Valid Epoch [34/500] [0/2]\t Time 0.313 (0.313)\t Data 0.079 (0.079)\t Loss 1.3778 (1.3778) \n",
      "Train Epoch [35/500] [0/5]\t Time 0.270 (0.270)\t Data 0.081 (0.081)\t Loss 1.6367 (1.6367) \n",
      "Valid Epoch [35/500] [0/2]\t Time 0.311 (0.311)\t Data 0.080 (0.080)\t Loss 1.2327 (1.2327) \n",
      "Train Epoch [36/500] [0/5]\t Time 0.268 (0.268)\t Data 0.083 (0.083)\t Loss 1.7312 (1.7312) \n",
      "Valid Epoch [36/500] [0/2]\t Time 0.310 (0.310)\t Data 0.080 (0.080)\t Loss 1.3494 (1.3494) \n",
      "Train Epoch [37/500] [0/5]\t Time 0.269 (0.269)\t Data 0.078 (0.078)\t Loss 1.4755 (1.4755) \n",
      "Valid Epoch [37/500] [0/2]\t Time 0.310 (0.310)\t Data 0.081 (0.081)\t Loss 1.3559 (1.3559) \n",
      "Train Epoch [38/500] [0/5]\t Time 0.263 (0.263)\t Data 0.080 (0.080)\t Loss 1.7173 (1.7173) \n",
      "Valid Epoch [38/500] [0/2]\t Time 0.312 (0.312)\t Data 0.081 (0.081)\t Loss 1.4201 (1.4201) \n",
      "Train Epoch [39/500] [0/5]\t Time 0.270 (0.270)\t Data 0.082 (0.082)\t Loss 1.5994 (1.5994) \n",
      "Valid Epoch [39/500] [0/2]\t Time 0.312 (0.312)\t Data 0.080 (0.080)\t Loss 1.1063 (1.1063) \n",
      "Train Epoch [40/500] [0/5]\t Time 0.261 (0.261)\t Data 0.079 (0.079)\t Loss 1.7607 (1.7607) \n",
      "Valid Epoch [40/500] [0/2]\t Time 0.311 (0.311)\t Data 0.080 (0.080)\t Loss 1.1924 (1.1924) \n",
      "Train Epoch [41/500] [0/5]\t Time 0.269 (0.269)\t Data 0.079 (0.079)\t Loss 1.5124 (1.5124) \n",
      "Valid Epoch [41/500] [0/2]\t Time 0.312 (0.312)\t Data 0.081 (0.081)\t Loss 1.2962 (1.2962) \n",
      "Train Epoch [42/500] [0/5]\t Time 0.263 (0.263)\t Data 0.077 (0.077)\t Loss 1.7542 (1.7542) \n",
      "Valid Epoch [42/500] [0/2]\t Time 0.314 (0.314)\t Data 0.082 (0.082)\t Loss 1.4612 (1.4612) \n",
      "Train Epoch [43/500] [0/5]\t Time 0.271 (0.271)\t Data 0.082 (0.082)\t Loss 1.7209 (1.7209) \n",
      "Valid Epoch [43/500] [0/2]\t Time 0.311 (0.311)\t Data 0.077 (0.077)\t Loss 1.3429 (1.3429) \n",
      "Train Epoch [44/500] [0/5]\t Time 0.266 (0.266)\t Data 0.079 (0.079)\t Loss 1.5487 (1.5487) \n",
      "Valid Epoch [44/500] [0/2]\t Time 0.311 (0.311)\t Data 0.078 (0.078)\t Loss 1.3628 (1.3628) \n",
      "Train Epoch [45/500] [0/5]\t Time 0.271 (0.271)\t Data 0.079 (0.079)\t Loss 1.5507 (1.5507) \n",
      "Valid Epoch [45/500] [0/2]\t Time 0.314 (0.314)\t Data 0.081 (0.081)\t Loss 1.3771 (1.3771) \n",
      "Train Epoch [46/500] [0/5]\t Time 0.265 (0.265)\t Data 0.082 (0.082)\t Loss 1.5361 (1.5361) \n",
      "Valid Epoch [46/500] [0/2]\t Time 0.310 (0.310)\t Data 0.081 (0.081)\t Loss 1.2046 (1.2046) \n",
      "Train Epoch [47/500] [0/5]\t Time 0.269 (0.269)\t Data 0.081 (0.081)\t Loss 1.3856 (1.3856) \n",
      "Valid Epoch [47/500] [0/2]\t Time 0.313 (0.313)\t Data 0.079 (0.079)\t Loss 1.4660 (1.4660) \n",
      "Train Epoch [48/500] [0/5]\t Time 0.260 (0.260)\t Data 0.079 (0.079)\t Loss 1.7326 (1.7326) \n",
      "Valid Epoch [48/500] [0/2]\t Time 0.311 (0.311)\t Data 0.079 (0.079)\t Loss 1.5207 (1.5207) \n",
      "Train Epoch [49/500] [0/5]\t Time 0.259 (0.259)\t Data 0.078 (0.078)\t Loss 1.6134 (1.6134) \n",
      "Valid Epoch [49/500] [0/2]\t Time 0.314 (0.314)\t Data 0.080 (0.080)\t Loss 1.4400 (1.4400) \n",
      "Train Epoch [50/500] [0/5]\t Time 0.264 (0.264)\t Data 0.078 (0.078)\t Loss 1.3919 (1.3919) \n",
      "Valid Epoch [50/500] [0/2]\t Time 0.314 (0.314)\t Data 0.080 (0.080)\t Loss 1.2582 (1.2582) \n",
      "Train Epoch [51/500] [0/5]\t Time 0.262 (0.262)\t Data 0.079 (0.079)\t Loss 1.5236 (1.5236) \n",
      "Valid Epoch [51/500] [0/2]\t Time 0.314 (0.314)\t Data 0.078 (0.078)\t Loss 1.2897 (1.2897) \n",
      "Train Epoch [52/500] [0/5]\t Time 0.274 (0.274)\t Data 0.083 (0.083)\t Loss 1.4498 (1.4498) \n",
      "Valid Epoch [52/500] [0/2]\t Time 0.310 (0.310)\t Data 0.080 (0.080)\t Loss 1.1538 (1.1538) \n",
      "Train Epoch [53/500] [0/5]\t Time 0.267 (0.267)\t Data 0.080 (0.080)\t Loss 1.6914 (1.6914) \n",
      "Valid Epoch [53/500] [0/2]\t Time 0.314 (0.314)\t Data 0.082 (0.082)\t Loss 1.1469 (1.1469) \n",
      "Train Epoch [54/500] [0/5]\t Time 0.268 (0.268)\t Data 0.079 (0.079)\t Loss 1.5092 (1.5092) \n",
      "Valid Epoch [54/500] [0/2]\t Time 0.308 (0.308)\t Data 0.086 (0.086)\t Loss 1.3812 (1.3812) \n",
      "Train Epoch [55/500] [0/5]\t Time 0.266 (0.266)\t Data 0.081 (0.081)\t Loss 1.3386 (1.3386) \n",
      "Valid Epoch [55/500] [0/2]\t Time 0.313 (0.313)\t Data 0.079 (0.079)\t Loss 1.3997 (1.3997) \n",
      "Train Epoch [56/500] [0/5]\t Time 0.266 (0.266)\t Data 0.081 (0.081)\t Loss 1.6060 (1.6060) \n",
      "Valid Epoch [56/500] [0/2]\t Time 0.309 (0.309)\t Data 0.081 (0.081)\t Loss 1.4066 (1.4066) \n",
      "Train Epoch [57/500] [0/5]\t Time 0.270 (0.270)\t Data 0.082 (0.082)\t Loss 1.5549 (1.5549) \n",
      "Valid Epoch [57/500] [0/2]\t Time 0.313 (0.313)\t Data 0.079 (0.079)\t Loss 1.2486 (1.2486) \n",
      "Train Epoch [58/500] [0/5]\t Time 0.269 (0.269)\t Data 0.080 (0.080)\t Loss 1.4605 (1.4605) \n",
      "Valid Epoch [58/500] [0/2]\t Time 0.310 (0.310)\t Data 0.081 (0.081)\t Loss 1.3014 (1.3014) \n",
      "Train Epoch [59/500] [0/5]\t Time 0.259 (0.259)\t Data 0.077 (0.077)\t Loss 1.6199 (1.6199) \n",
      "Valid Epoch [59/500] [0/2]\t Time 0.312 (0.312)\t Data 0.081 (0.081)\t Loss 1.3204 (1.3204) \n",
      "Train Epoch [60/500] [0/5]\t Time 0.270 (0.270)\t Data 0.078 (0.078)\t Loss 1.4368 (1.4368) \n",
      "Valid Epoch [60/500] [0/2]\t Time 0.309 (0.309)\t Data 0.079 (0.079)\t Loss 1.2927 (1.2927) \n",
      "Train Epoch [61/500] [0/5]\t Time 0.267 (0.267)\t Data 0.081 (0.081)\t Loss 1.3021 (1.3021) \n",
      "Valid Epoch [61/500] [0/2]\t Time 0.312 (0.312)\t Data 0.083 (0.083)\t Loss 1.2767 (1.2767) \n",
      "Train Epoch [62/500] [0/5]\t Time 0.273 (0.273)\t Data 0.082 (0.082)\t Loss 1.4009 (1.4009) \n",
      "Valid Epoch [62/500] [0/2]\t Time 0.314 (0.314)\t Data 0.082 (0.082)\t Loss 1.5782 (1.5782) \n",
      "Train Epoch [63/500] [0/5]\t Time 0.262 (0.262)\t Data 0.081 (0.081)\t Loss 1.2981 (1.2981) \n",
      "Valid Epoch [63/500] [0/2]\t Time 0.311 (0.311)\t Data 0.078 (0.078)\t Loss 1.3428 (1.3428) \n",
      "Train Epoch [64/500] [0/5]\t Time 0.270 (0.270)\t Data 0.080 (0.080)\t Loss 1.4275 (1.4275) \n",
      "Valid Epoch [64/500] [0/2]\t Time 0.310 (0.310)\t Data 0.079 (0.079)\t Loss 1.2794 (1.2794) \n",
      "Train Epoch [65/500] [0/5]\t Time 0.262 (0.262)\t Data 0.081 (0.081)\t Loss 1.2756 (1.2756) \n",
      "Valid Epoch [65/500] [0/2]\t Time 0.313 (0.313)\t Data 0.080 (0.080)\t Loss 1.3274 (1.3274) \n",
      "Train Epoch [66/500] [0/5]\t Time 0.270 (0.270)\t Data 0.079 (0.079)\t Loss 1.3815 (1.3815) \n",
      "Valid Epoch [66/500] [0/2]\t Time 0.310 (0.310)\t Data 0.081 (0.081)\t Loss 1.3816 (1.3816) \n",
      "Train Epoch [67/500] [0/5]\t Time 0.262 (0.262)\t Data 0.081 (0.081)\t Loss 1.2504 (1.2504) \n",
      "Valid Epoch [67/500] [0/2]\t Time 0.313 (0.313)\t Data 0.079 (0.079)\t Loss 1.4501 (1.4501) \n",
      "Train Epoch [68/500] [0/5]\t Time 0.268 (0.268)\t Data 0.080 (0.080)\t Loss 1.3094 (1.3094) \n",
      "Valid Epoch [68/500] [0/2]\t Time 0.311 (0.311)\t Data 0.080 (0.080)\t Loss 1.3519 (1.3519) \n",
      "Train Epoch [69/500] [0/5]\t Time 0.266 (0.266)\t Data 0.082 (0.082)\t Loss 1.6206 (1.6206) \n",
      "Valid Epoch [69/500] [0/2]\t Time 0.310 (0.310)\t Data 0.083 (0.083)\t Loss 1.3480 (1.3480) \n",
      "Train Epoch [70/500] [0/5]\t Time 0.270 (0.270)\t Data 0.082 (0.082)\t Loss 1.4082 (1.4082) \n",
      "Valid Epoch [70/500] [0/2]\t Time 0.315 (0.315)\t Data 0.079 (0.079)\t Loss 1.3556 (1.3556) \n",
      "Train Epoch [71/500] [0/5]\t Time 0.261 (0.261)\t Data 0.080 (0.080)\t Loss 1.4185 (1.4185) \n",
      "Valid Epoch [71/500] [0/2]\t Time 0.313 (0.313)\t Data 0.079 (0.079)\t Loss 1.4082 (1.4082) \n",
      "Train Epoch [72/500] [0/5]\t Time 0.269 (0.269)\t Data 0.082 (0.082)\t Loss 1.2561 (1.2561) \n",
      "Valid Epoch [72/500] [0/2]\t Time 0.314 (0.314)\t Data 0.078 (0.078)\t Loss 1.5221 (1.5221) \n",
      "Train Epoch [73/500] [0/5]\t Time 0.266 (0.266)\t Data 0.082 (0.082)\t Loss 1.4661 (1.4661) \n",
      "Valid Epoch [73/500] [0/2]\t Time 0.313 (0.313)\t Data 0.081 (0.081)\t Loss 1.1641 (1.1641) \n",
      "Train Epoch [74/500] [0/5]\t Time 0.263 (0.263)\t Data 0.081 (0.081)\t Loss 1.1986 (1.1986) \n",
      "Valid Epoch [74/500] [0/2]\t Time 0.307 (0.307)\t Data 0.085 (0.085)\t Loss 1.6745 (1.6745) \n",
      "Train Epoch [75/500] [0/5]\t Time 0.264 (0.264)\t Data 0.080 (0.080)\t Loss 1.2419 (1.2419) \n",
      "Valid Epoch [75/500] [0/2]\t Time 0.311 (0.311)\t Data 0.078 (0.078)\t Loss 1.3750 (1.3750) \n",
      "Train Epoch [76/500] [0/5]\t Time 0.267 (0.267)\t Data 0.080 (0.080)\t Loss 1.3118 (1.3118) \n"
     ]
    },
    {
     "ename": "KeyboardInterrupt",
     "evalue": "",
     "output_type": "error",
     "traceback": [
      "\u001b[0;31m---------------------------------------------------------------------------\u001b[0m",
      "\u001b[0;31mKeyboardInterrupt\u001b[0m                         Traceback (most recent call last)",
      "\u001b[0;32m<ipython-input-26-3b3f950b0e0f>\u001b[0m in \u001b[0;36m<module>\u001b[0;34m\u001b[0m\n\u001b[1;32m      1\u001b[0m \u001b[0mhistory\u001b[0m \u001b[0;34m=\u001b[0m \u001b[0;34m{\u001b[0m\u001b[0;34m'train'\u001b[0m\u001b[0;34m:\u001b[0m\u001b[0;34m[\u001b[0m\u001b[0;34m]\u001b[0m\u001b[0;34m,\u001b[0m \u001b[0;34m'valid'\u001b[0m\u001b[0;34m:\u001b[0m\u001b[0;34m[\u001b[0m\u001b[0;34m]\u001b[0m\u001b[0;34m}\u001b[0m\u001b[0;34m\u001b[0m\u001b[0;34m\u001b[0m\u001b[0m\n\u001b[1;32m      2\u001b[0m \u001b[0;32mfor\u001b[0m \u001b[0mepoch\u001b[0m \u001b[0;32min\u001b[0m \u001b[0mrange\u001b[0m\u001b[0;34m(\u001b[0m\u001b[0mNUM_EPOCH\u001b[0m\u001b[0;34m)\u001b[0m\u001b[0;34m:\u001b[0m\u001b[0;34m\u001b[0m\u001b[0;34m\u001b[0m\u001b[0m\n\u001b[0;32m----> 3\u001b[0;31m     \u001b[0mtrainloss\u001b[0m \u001b[0;34m=\u001b[0m \u001b[0mtrain\u001b[0m\u001b[0;34m(\u001b[0m\u001b[0mepoch\u001b[0m\u001b[0;34m,\u001b[0m \u001b[0mNUM_EPOCH\u001b[0m\u001b[0;34m,\u001b[0m \u001b[0mmodel\u001b[0m\u001b[0;34m,\u001b[0m \u001b[0mtrainloader\u001b[0m\u001b[0;34m,\u001b[0m \u001b[0mcriterion\u001b[0m\u001b[0;34m,\u001b[0m \u001b[0moptimizer\u001b[0m\u001b[0;34m)\u001b[0m\u001b[0;34m\u001b[0m\u001b[0;34m\u001b[0m\u001b[0m\n\u001b[0m\u001b[1;32m      4\u001b[0m     \u001b[0mvalidloss\u001b[0m \u001b[0;34m=\u001b[0m \u001b[0mvalid\u001b[0m\u001b[0;34m(\u001b[0m\u001b[0mepoch\u001b[0m\u001b[0;34m,\u001b[0m \u001b[0mNUM_EPOCH\u001b[0m\u001b[0;34m,\u001b[0m \u001b[0mmodel\u001b[0m\u001b[0;34m,\u001b[0m \u001b[0mvalidloader\u001b[0m\u001b[0;34m,\u001b[0m \u001b[0mcriterion\u001b[0m\u001b[0;34m,\u001b[0m \u001b[0moptimizer\u001b[0m\u001b[0;34m)\u001b[0m\u001b[0;34m\u001b[0m\u001b[0;34m\u001b[0m\u001b[0m\n\u001b[1;32m      5\u001b[0m     \u001b[0mhistory\u001b[0m\u001b[0;34m[\u001b[0m\u001b[0;34m'train'\u001b[0m\u001b[0;34m]\u001b[0m\u001b[0;34m.\u001b[0m\u001b[0mappend\u001b[0m\u001b[0;34m(\u001b[0m\u001b[0mtrainloss\u001b[0m\u001b[0;34m)\u001b[0m\u001b[0;34m\u001b[0m\u001b[0;34m\u001b[0m\u001b[0m\n",
      "\u001b[0;32m<ipython-input-25-0c554195c5ab>\u001b[0m in \u001b[0;36mtrain\u001b[0;34m(epoch, num_epoch, model, dataloader, criterion, optimizer)\u001b[0m\n\u001b[1;32m     12\u001b[0m \u001b[0;34m\u001b[0m\u001b[0m\n\u001b[1;32m     13\u001b[0m         \u001b[0;32mif\u001b[0m \u001b[0mtorch\u001b[0m\u001b[0;34m.\u001b[0m\u001b[0mcuda\u001b[0m\u001b[0;34m.\u001b[0m\u001b[0mis_available\u001b[0m\u001b[0;34m(\u001b[0m\u001b[0;34m)\u001b[0m\u001b[0;34m:\u001b[0m\u001b[0;34m\u001b[0m\u001b[0;34m\u001b[0m\u001b[0m\n\u001b[0;32m---> 14\u001b[0;31m             \u001b[0mimg1\u001b[0m \u001b[0;34m=\u001b[0m \u001b[0mimg1\u001b[0m\u001b[0;34m.\u001b[0m\u001b[0mcuda\u001b[0m\u001b[0;34m(\u001b[0m\u001b[0;34m)\u001b[0m\u001b[0;34m\u001b[0m\u001b[0;34m\u001b[0m\u001b[0m\n\u001b[0m\u001b[1;32m     15\u001b[0m             \u001b[0mimg2\u001b[0m \u001b[0;34m=\u001b[0m \u001b[0mimg2\u001b[0m\u001b[0;34m.\u001b[0m\u001b[0mcuda\u001b[0m\u001b[0;34m(\u001b[0m\u001b[0;34m)\u001b[0m\u001b[0;34m\u001b[0m\u001b[0;34m\u001b[0m\u001b[0m\n\u001b[1;32m     16\u001b[0m \u001b[0;34m\u001b[0m\u001b[0m\n",
      "\u001b[0;31mKeyboardInterrupt\u001b[0m: "
     ]
    }
   ],
   "source": [
    "history = {'train':[], 'valid':[]}\n",
    "for epoch in range(NUM_EPOCH):\n",
    "    trainloss = train(epoch, NUM_EPOCH, model, trainloader, criterion, optimizer)\n",
    "    validloss = valid(epoch, NUM_EPOCH, model, validloader, criterion, optimizer)\n",
    "    history['train'].append(trainloss)\n",
    "    history['valid'].append(validloss)"
   ]
  },
  {
   "cell_type": "code",
   "execution_count": null,
   "metadata": {},
   "outputs": [],
   "source": []
  },
  {
   "cell_type": "code",
   "execution_count": 27,
   "metadata": {},
   "outputs": [
    {
     "data": {
      "image/png": "[encoded data removed]",
      "text/plain": [
       "<Figure size 432x288 with 1 Axes>"
      ]
     },
     "metadata": {
      "needs_background": "light"
     },
     "output_type": "display_data"
    }
   ],
   "source": [
    "index = list(range(len(history['train'])))\n",
    "plt.plot(index, history['train'], label='train_loss')\n",
    "plt.plot(index, history['valid'], label='valid_loss')\n",
    "plt.legend(loc=1)\n",
    "plt.show()"
   ]
  },
  {
   "cell_type": "code",
   "execution_count": null,
   "metadata": {},
   "outputs": [],
   "source": []
  },
  {
   "cell_type": "code",
   "execution_count": 31,
   "metadata": {},
   "outputs": [],
   "source": [
    "im1, im2, label = next(iter(validloader))\n",
    "if torch.cuda.is_available():\n",
    "    im1 = im1.cuda()\n",
    "    im2 = im2.cuda()\n",
    "out1, out2 = model.forward(im1,im2)\n",
    "predicted_label = F.pairwise_distance(out1, out2)"
   ]
  },
  {
   "cell_type": "code",
   "execution_count": null,
   "metadata": {},
   "outputs": [],
   "source": []
  },
  {
   "cell_type": "code",
   "execution_count": 53,
   "metadata": {},
   "outputs": [],
   "source": [
    "layer1 = model.layer1(im1)\n",
    "layer2 = model.layer2(layer1)\n",
    "layer3 = model.layer3(layer2)\n",
    "layer4 = model.layer4(layer3)\n"
   ]
  },
  {
   "cell_type": "code",
   "execution_count": 59,
   "metadata": {},
   "outputs": [
    {
     "data": {
      "text/plain": [
       "<matplotlib.image.AxesImage at 0x7fbeb1de04a8>"
      ]
     },
     "execution_count": 59,
     "metadata": {},
     "output_type": "execute_result"
    },
    {
     "data": {
      "image/png": "[encoded data removed]",
      "text/plain": [
       "<Figure size 432x288 with 1 Axes>"
      ]
     },
     "metadata": {
      "needs_background": "light"
     },
     "output_type": "display_data"
    }
   ],
   "source": [
    "plt.imshow(layer2[0][32].cpu().detach())"
   ]
  },
  {
   "cell_type": "code",
   "execution_count": 144,
   "metadata": {},
   "outputs": [],
   "source": [
    "def step(val, threshold=0.5):\n",
    "    if val>threshold:\n",
    "        return 1\n",
    "    else:\n",
    "        return 0\n",
    "    "
   ]
  },
  {
   "cell_type": "code",
   "execution_count": 149,
   "metadata": {},
   "outputs": [
    {
     "data": {
      "text/plain": [
       "(75.33333333333333, 35.0)"
      ]
     },
     "execution_count": 149,
     "metadata": {},
     "output_type": "execute_result"
    }
   ],
   "source": [
    "model.eval()\n",
    "fn, fp, ap, an = 0,0,0,0\n",
    "for idx, (img1,img2,label) in enumerate(validloader):\n",
    "    if torch.cuda.is_available():\n",
    "        img1 = img1.cuda()\n",
    "        img2 = img2.cuda()\n",
    "    out1, out2 = model.forward(img1,img2)\n",
    "    predicted_label = F.pairwise_distance(out1, out2)\n",
    "    \n",
    "    for i in range(img1.size(0)):\n",
    "        pr = step(predicted_label[i].item(), threshold=0.3)\n",
    "        gt = int(label[i].item())\n",
    "        \n",
    "        if pr==False and gt==True: fn+=1\n",
    "        elif pr==True and gt==True: ap+=1\n",
    "        elif pr==False and gt==False: an+=1\n",
    "        elif pr==True and gt==False: fp+=1\n",
    "        \n",
    "fn, fp, ap, an\n",
    "error = (fn + fp) / (fp+fn+ap+an) * 100\n",
    "accuracy = ap+an / (fp+fn+ap+an) * 100\n",
    "accuracy, error"
   ]
  },
  {
   "cell_type": "code",
   "execution_count": 113,
   "metadata": {},
   "outputs": [
    {
     "data": {
      "text/plain": [
       "True"
      ]
     },
     "execution_count": 113,
     "metadata": {},
     "output_type": "execute_result"
    }
   ],
   "source": [
    "1==True"
   ]
  },
  {
   "cell_type": "code",
   "execution_count": 111,
   "metadata": {},
   "outputs": [
    {
     "name": "stdout",
     "output_type": "stream",
     "text": [
      "Predicted: 1\t Ground Truth: 0.0\n"
     ]
    },
    {
     "data": {
      "image/png": "[encoded data removed]",
      "text/plain": [
       "<Figure size 432x288 with 1 Axes>"
      ]
     },
     "metadata": {
      "needs_background": "light"
     },
     "output_type": "display_data"
    },
    {
     "data": {
      "image/png": "[encoded data removed]",
      "text/plain": [
       "<Figure size 432x288 with 1 Axes>"
      ]
     },
     "metadata": {
      "needs_background": "light"
     },
     "output_type": "display_data"
    }
   ],
   "source": [
    "idx = 3\n",
    "i1 = im1[idx]\n",
    "i2 = im2[idx]\n",
    "lbl = label[idx]\n",
    "pl = threshold(predicted_label[idx].item())\n",
    "\n",
    "print(f'Predicted: {pl}\\t Ground Truth: {lbl.item()}')\n",
    "plt.imshow(i1.squeeze().cpu(), cmap='gray');plt.show()\n",
    "plt.imshow(i2.squeeze().cpu(), cmap='gray');plt.show()\n"
   ]
  },
  {
   "cell_type": "code",
   "execution_count": null,
   "metadata": {},
   "outputs": [],
   "source": []
  }
 ],
 "metadata": {
  "kernelspec": {
   "display_name": "Python 3",
   "language": "python",
   "name": "python3"
  },
  "language_info": {
   "codemirror_mode": {
    "name": "ipython",
    "version": 3
   },
   "file_extension": ".py",
   "mimetype": "text/x-python",
   "name": "python",
   "nbconvert_exporter": "python",
   "pygments_lexer": "ipython3",
   "version": "3.6.8"
  }
 },
 "nbformat": 4,
 "nbformat_minor": 2
}
