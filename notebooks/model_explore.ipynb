{
 "cells": [
  {
   "cell_type": "code",
   "execution_count": 29,
   "source": [
    "from siamese.modules import backbone\n",
    "from siamese.modules import siamese\n",
    "from torchvision.models import mobilenetv2\n",
    "\n",
    "import torch\n",
    "from scipy.spatial import distance_matrix\n"
   ],
   "outputs": [],
   "metadata": {}
  },
  {
   "cell_type": "code",
   "execution_count": 2,
   "source": [
    "# mobilenetv2.mobilenet_v2()"
   ],
   "outputs": [],
   "metadata": {}
  },
  {
   "cell_type": "code",
   "execution_count": 3,
   "source": [
    "resnet_backbone = backbone.resnet_backbone()"
   ],
   "outputs": [],
   "metadata": {}
  },
  {
   "cell_type": "code",
   "execution_count": 4,
   "source": [
    "mobilenet_backbone = backbone.mobilenetv2_backbone()"
   ],
   "outputs": [],
   "metadata": {}
  },
  {
   "cell_type": "code",
   "execution_count": 33,
   "source": [
    "siamese_net = siamese.SiameseNet(mobilenet_backbone)\n",
    "# siamese_net.eval()"
   ],
   "outputs": [],
   "metadata": {}
  },
  {
   "cell_type": "code",
   "execution_count": 37,
   "source": [
    "x = torch.rand(1,3,224,224)\n",
    "y = torch.rand(1,3,224,224)\n",
    "with torch.no_grad():\n",
    "    siamese_net.eval()\n",
    "    im1, im2 = siamese_net(x,y)\n",
    "distance_matrix(im1, im2), torch.pairwise_distance(im1, im2)"
   ],
   "outputs": [
    {
     "output_type": "execute_result",
     "data": {
      "text/plain": [
       "(array([[0.30736069]]), tensor([0.3074]))"
      ]
     },
     "metadata": {},
     "execution_count": 37
    }
   ],
   "metadata": {}
  },
  {
   "cell_type": "code",
   "execution_count": null,
   "source": [],
   "outputs": [],
   "metadata": {}
  }
 ],
 "metadata": {
  "orig_nbformat": 4,
  "language_info": {
   "name": "python",
   "version": "3.8.8",
   "mimetype": "text/x-python",
   "codemirror_mode": {
    "name": "ipython",
    "version": 3
   },
   "pygments_lexer": "ipython3",
   "nbconvert_exporter": "python",
   "file_extension": ".py"
  },
  "kernelspec": {
   "name": "python3",
   "display_name": "Python 3.8.8 64-bit ('dlearn38': conda)"
  },
  "interpreter": {
   "hash": "a1feed109145c79522b8b74cfb436af105aa355bc9a0bc413e1d5636a3a1c972"
  }
 },
 "nbformat": 4,
 "nbformat_minor": 2
}